{
 "cells": [
  {
   "cell_type": "code",
   "execution_count": 1,
   "metadata": {},
   "outputs": [],
   "source": [
    "import math\n",
    "import pandas as pd\n",
    "from pandas import DataFrame, Series\n",
    "import numpy as np\n",
    "import time\n",
    "from sklearn.linear_model import LogisticRegression\n",
    "from sklearn.model_selection import train_test_split \n",
    "from sklearn import preprocessing"
   ]
  },
  {
   "cell_type": "code",
   "execution_count": 2,
   "metadata": {},
   "outputs": [],
   "source": [
    "train_df = pd.read_csv('xy_train.csv')\n",
    "X_test_df = pd.read_csv('x_test.csv')\n",
    "Y_test_df = pd.read_csv('y_test.csv')"
   ]
  },
  {
   "cell_type": "code",
   "execution_count": 3,
   "metadata": {},
   "outputs": [
    {
     "data": {
      "text/plain": [
       "PassengerId      0\n",
       "Survived         0\n",
       "Pclass           0\n",
       "Name             0\n",
       "Sex              0\n",
       "Age            177\n",
       "SibSp            0\n",
       "Parch            0\n",
       "Ticket           0\n",
       "Fare             0\n",
       "Cabin          687\n",
       "Embarked         2\n",
       "dtype: int64"
      ]
     },
     "execution_count": 3,
     "metadata": {},
     "output_type": "execute_result"
    }
   ],
   "source": [
    "train_df.isna().sum()"
   ]
  },
  {
   "cell_type": "code",
   "execution_count": 4,
   "metadata": {},
   "outputs": [
    {
     "data": {
      "text/plain": [
       "PassengerId      0\n",
       "Pclass           0\n",
       "Name             0\n",
       "Sex              0\n",
       "Age             86\n",
       "SibSp            0\n",
       "Parch            0\n",
       "Ticket           0\n",
       "Fare             1\n",
       "Cabin          327\n",
       "Embarked         0\n",
       "dtype: int64"
      ]
     },
     "execution_count": 4,
     "metadata": {},
     "output_type": "execute_result"
    }
   ],
   "source": [
    "X_test_df.isna().sum()"
   ]
  },
  {
   "cell_type": "markdown",
   "metadata": {},
   "source": [
    "So, training data has 177 missing values for Age, 687 missing values for Cabin, 2 missing values from Embarked and \n",
    "test data has 86 missing values for Age, 327 missing values for Cabin and 1 missing value for Fare.\n",
    "Since a large portion of Cabin values are missing, so it can be ignored.\n",
    "To handle missing values for Age, replace missing values with average Age computed from TRAINING SET.\n",
    "To handle missing values for Fare, replace missing values with most frequent occuring Fare in TRAINING SET.\n",
    "To handle missing values for Embarked,replace missing values with most frequent occuring Embarked in TRAINING SET.\n",
    "PassengerId, Name, Ticket Number should have no role in deciding whether person survived or not, so it is ignored"
   ]
  },
  {
   "cell_type": "code",
   "execution_count": 5,
   "metadata": {},
   "outputs": [],
   "source": [
    "most_frequent_fare = train_df['Fare'].mode()[0]\n",
    "most_frequent_embarked = train_df['Embarked'].mode()[0]\n",
    "most_frequent_cabin = train_df['Cabin'].mode()[0]\n",
    "avg_age = train_df['Age'].mean()"
   ]
  },
  {
   "cell_type": "code",
   "execution_count": 6,
   "metadata": {},
   "outputs": [],
   "source": [
    "X_train = train_df.drop(['PassengerId','Name','Ticket','Survived','Cabin'], axis=1)\n",
    "Y_train = train_df['Survived']\n",
    "X_test = X_test_df.drop(['PassengerId','Name','Ticket','Cabin'], axis=1)\n",
    "Y_test = Y_test_df['Survived']\n",
    "X_train.fillna({'Age':avg_age, 'Fare':most_frequent_fare, 'Embarked':most_frequent_embarked}, inplace=True)\n",
    "X_test.fillna({'Age':avg_age, 'Fare':most_frequent_fare, 'Embarked':most_frequent_embarked}, inplace=True)"
   ]
  },
  {
   "cell_type": "markdown",
   "metadata": {},
   "source": [
    "Use LabelEncoder to convert string categorical values into corresponding numerical values "
   ]
  },
  {
   "cell_type": "code",
   "execution_count": 7,
   "metadata": {},
   "outputs": [],
   "source": [
    "le = preprocessing.LabelEncoder() \n",
    "le.fit(X_train['Sex'])\n",
    "X_train.loc[:,'Sex'] = le.transform(X_train['Sex'])\n",
    "X_test.loc[:,'Sex'] = le.transform(X_test['Sex'])"
   ]
  },
  {
   "cell_type": "code",
   "execution_count": 8,
   "metadata": {},
   "outputs": [],
   "source": [
    "le.fit(X_train['Embarked'])\n",
    "X_train.loc[:,'Embarked'] = le.transform(X_train['Embarked'])\n",
    "X_test.loc[:,'Embarked'] = le.transform(X_test['Embarked'])"
   ]
  },
  {
   "cell_type": "markdown",
   "metadata": {},
   "source": [
    "Split test set into test set and validation set for hyperparameter tuning"
   ]
  },
  {
   "cell_type": "code",
   "execution_count": 9,
   "metadata": {},
   "outputs": [],
   "source": [
    "X_test, X_val, Y_test, Y_val = train_test_split(X_test, Y_test, test_size=0.1, random_state=1)"
   ]
  },
  {
   "cell_type": "markdown",
   "metadata": {},
   "source": [
    "Use MinMaxScalar for feature scaling"
   ]
  },
  {
   "cell_type": "code",
   "execution_count": 10,
   "metadata": {},
   "outputs": [],
   "source": [
    "scaler = preprocessing.MinMaxScaler()\n",
    "X_train = scaler.fit_transform(X_train)\n",
    "X_test = scaler.fit_transform(X_test)\n",
    "X_val = scaler.fit_transform(X_val)"
   ]
  },
  {
   "cell_type": "markdown",
   "metadata": {},
   "source": [
    "Use validation set to find best value for hyperparametr C, max_iter"
   ]
  },
  {
   "cell_type": "code",
   "execution_count": 11,
   "metadata": {},
   "outputs": [
    {
     "name": "stdout",
     "output_type": "stream",
     "text": [
      "100 0.0001 0.7380952380952381\n",
      "100 0.001 0.7380952380952381\n",
      "100 0.01 0.8095238095238095\n",
      "100 0.1 0.9761904761904762\n",
      "100 1 0.9523809523809523\n",
      "100 10 0.9047619047619048\n",
      "100 100 0.9047619047619048\n",
      "1000 0.0001 0.7380952380952381\n",
      "1000 0.001 0.7380952380952381\n",
      "1000 0.01 0.8095238095238095\n",
      "1000 0.1 0.9761904761904762\n",
      "1000 1 0.9523809523809523\n",
      "1000 10 0.9047619047619048\n",
      "1000 100 0.9047619047619048\n",
      "10000 0.0001 0.7380952380952381\n",
      "10000 0.001 0.7380952380952381\n",
      "10000 0.01 0.8095238095238095\n",
      "10000 0.1 0.9761904761904762\n",
      "10000 1 0.9523809523809523\n",
      "10000 10 0.9047619047619048\n",
      "10000 100 0.9047619047619048\n"
     ]
    }
   ],
   "source": [
    "c_params = [0.0001, 0.001, 0.01, 0.1, 1, 10, 100]\n",
    "iters = [100, 1000, 10000]\n",
    "best_c, best_iter = 0, 0\n",
    "max_acc = 0\n",
    "for itr in iters:\n",
    "    for c in c_params:\n",
    "        clf = LogisticRegression(C=c, random_state=0, max_iter=itr, solver='liblinear').fit(X_train, Y_train)\n",
    "        Y_pred = clf.predict(X_val)\n",
    "        acc = np.mean(Y_pred==Y_val)\n",
    "        print(itr,c,acc)\n",
    "        if acc > max_acc:\n",
    "            max_acc = acc\n",
    "            best_c = c\n",
    "            best_iter = itr"
   ]
  },
  {
   "cell_type": "markdown",
   "metadata": {},
   "source": [
    "Set hyperparameter values to the values that we got from hyperparameter tuning on validation set"
   ]
  },
  {
   "cell_type": "code",
   "execution_count": 12,
   "metadata": {},
   "outputs": [],
   "source": [
    "clf = LogisticRegression(C=best_c, random_state=0, max_iter=best_iter, solver='liblinear').fit(X_train, Y_train)"
   ]
  },
  {
   "cell_type": "code",
   "execution_count": 13,
   "metadata": {},
   "outputs": [
    {
     "name": "stdout",
     "output_type": "stream",
     "text": [
      "0.9973404255319149\n"
     ]
    }
   ],
   "source": [
    "Y_pred = clf.predict(X_test)\n",
    "acc = np.mean(Y_pred==Y_test)\n",
    "print(acc)"
   ]
  },
  {
   "cell_type": "code",
   "execution_count": null,
   "metadata": {},
   "outputs": [],
   "source": []
  }
 ],
 "metadata": {
  "kernelspec": {
   "display_name": "Python 3",
   "language": "python",
   "name": "python3"
  },
  "language_info": {
   "codemirror_mode": {
    "name": "ipython",
    "version": 3
   },
   "file_extension": ".py",
   "mimetype": "text/x-python",
   "name": "python",
   "nbconvert_exporter": "python",
   "pygments_lexer": "ipython3",
   "version": "3.7.4"
  }
 },
 "nbformat": 4,
 "nbformat_minor": 2
}
