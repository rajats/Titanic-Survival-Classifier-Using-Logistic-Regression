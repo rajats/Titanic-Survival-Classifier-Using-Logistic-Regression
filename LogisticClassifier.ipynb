{
 "cells": [
  {
   "cell_type": "code",
   "execution_count": 18,
   "metadata": {},
   "outputs": [],
   "source": [
    "import math\n",
    "import pandas as pd\n",
    "from pandas import DataFrame, Series\n",
    "import numpy as np\n",
    "import time\n",
    "from sklearn.model_selection import train_test_split \n",
    "from sklearn import preprocessing\n",
    "import matplotlib.pyplot as plt\n",
    "%matplotlib inline"
   ]
  },
  {
   "cell_type": "code",
   "execution_count": 2,
   "metadata": {},
   "outputs": [],
   "source": [
    "train_df = pd.read_csv('xy_train.csv')\n",
    "X_test_df = pd.read_csv('x_test.csv')\n",
    "Y_test_df = pd.read_csv('y_test.csv')"
   ]
  },
  {
   "cell_type": "code",
   "execution_count": 3,
   "metadata": {},
   "outputs": [
    {
     "data": {
      "text/plain": [
       "PassengerId      0\n",
       "Survived         0\n",
       "Pclass           0\n",
       "Name             0\n",
       "Sex              0\n",
       "Age            177\n",
       "SibSp            0\n",
       "Parch            0\n",
       "Ticket           0\n",
       "Fare             0\n",
       "Cabin          687\n",
       "Embarked         2\n",
       "dtype: int64"
      ]
     },
     "execution_count": 3,
     "metadata": {},
     "output_type": "execute_result"
    }
   ],
   "source": [
    "train_df.isna().sum()"
   ]
  },
  {
   "cell_type": "code",
   "execution_count": 4,
   "metadata": {},
   "outputs": [
    {
     "data": {
      "text/plain": [
       "PassengerId      0\n",
       "Pclass           0\n",
       "Name             0\n",
       "Sex              0\n",
       "Age             86\n",
       "SibSp            0\n",
       "Parch            0\n",
       "Ticket           0\n",
       "Fare             1\n",
       "Cabin          327\n",
       "Embarked         0\n",
       "dtype: int64"
      ]
     },
     "execution_count": 4,
     "metadata": {},
     "output_type": "execute_result"
    }
   ],
   "source": [
    "X_test_df.isna().sum()"
   ]
  },
  {
   "cell_type": "markdown",
   "metadata": {},
   "source": [
    "So, training data has 177 missing values for Age, 687 missing values for Cabin, 2 missing values from Embarked and test data has 86 missing values for Age, 327 missing values for Cabin and 1 missing value for Fare. Since a large portion of Cabin values are missing, so it can be ignored. To handle missing values for Age, replace missing values with average Age computed from TRAINING SET. To handle missing values for Fare, replace missing values with most frequent occuring Fare in TRAINING SET. To handle missing values for Embarked,replace missing values with most frequent occuring Embarked in TRAINING SET. PassengerId, Name, Ticket Number should have no role in deciding whether person survived or not, so it is ignored"
   ]
  },
  {
   "cell_type": "code",
   "execution_count": 5,
   "metadata": {},
   "outputs": [],
   "source": [
    "most_frequent_fare = train_df['Fare'].mode()[0]\n",
    "most_frequent_embarked = train_df['Embarked'].mode()[0]\n",
    "most_frequent_cabin = train_df['Cabin'].mode()[0]"
   ]
  },
  {
   "cell_type": "code",
   "execution_count": 7,
   "metadata": {},
   "outputs": [],
   "source": [
    "avg_age = train_df['Age'].mean()\n",
    "X_train = train_df.drop(['PassengerId','Name','Ticket','Survived','Cabin'], axis=1)\n",
    "Y_train = train_df['Survived'].values\n",
    "X_test = X_test_df.drop(['PassengerId','Name','Ticket','Cabin'], axis=1)\n",
    "Y_test = Y_test_df['Survived'].values\n",
    "X_train.fillna({'Age':avg_age, 'Fare':most_frequent_fare, 'Embarked':most_frequent_embarked}, inplace=True)\n",
    "X_test.fillna({'Age':avg_age, 'Fare':most_frequent_fare, 'Embarked':most_frequent_embarked}, inplace=True)"
   ]
  },
  {
   "cell_type": "markdown",
   "metadata": {},
   "source": [
    "Use LabelEncoder to convert string categorical values into corresponding numerical values"
   ]
  },
  {
   "cell_type": "code",
   "execution_count": 8,
   "metadata": {},
   "outputs": [],
   "source": [
    "le = preprocessing.LabelEncoder() \n",
    "le.fit(X_train['Sex'])\n",
    "X_train.loc[:,'Sex'] = le.transform(X_train['Sex'])\n",
    "X_test.loc[:,'Sex'] = le.transform(X_test['Sex'])\n",
    "le.fit(X_train['Embarked'])\n",
    "X_train.loc[:,'Embarked'] = le.transform(X_train['Embarked'])\n",
    "X_test.loc[:,'Embarked'] = le.transform(X_test['Embarked'])"
   ]
  },
  {
   "cell_type": "markdown",
   "metadata": {},
   "source": [
    "Split test set into test set and validation set for hyperparameter tuning"
   ]
  },
  {
   "cell_type": "code",
   "execution_count": 9,
   "metadata": {},
   "outputs": [],
   "source": [
    "X_test, X_val, Y_test, Y_val = train_test_split(X_test, Y_test, test_size=0.1, random_state=1)"
   ]
  },
  {
   "cell_type": "markdown",
   "metadata": {},
   "source": [
    "Use MinMaxScalar for feature scaling"
   ]
  },
  {
   "cell_type": "code",
   "execution_count": 10,
   "metadata": {},
   "outputs": [],
   "source": [
    "scaler = preprocessing.MinMaxScaler()\n",
    "X_train = scaler.fit_transform(X_train)\n",
    "X_test = scaler.fit_transform(X_test)\n",
    "X_val = scaler.fit_transform(X_val)"
   ]
  },
  {
   "cell_type": "code",
   "execution_count": 11,
   "metadata": {},
   "outputs": [
    {
     "name": "stdout",
     "output_type": "stream",
     "text": [
      "(891, 7)\n",
      "(891,)\n",
      "(376, 7)\n",
      "(376,)\n",
      "(42, 7)\n",
      "(42,)\n"
     ]
    }
   ],
   "source": [
    "print(X_train.shape)\n",
    "print(Y_train.shape)\n",
    "print(X_test.shape)\n",
    "print(Y_test.shape)\n",
    "print(X_val.shape)\n",
    "print(Y_val.shape)"
   ]
  },
  {
   "cell_type": "markdown",
   "metadata": {},
   "source": [
    "Add one extra column containg all 1s  in X_train, X_val, X_test for bias"
   ]
  },
  {
   "cell_type": "code",
   "execution_count": 12,
   "metadata": {},
   "outputs": [],
   "source": [
    "X_train = np.hstack((np.ones(X_train.shape[0]).reshape(X_train.shape[0],1), X_train))\n",
    "X_test = np.hstack((np.ones(X_test.shape[0]).reshape(X_test.shape[0],1), X_test))\n",
    "X_val = np.hstack((np.ones(X_val.shape[0]).reshape(X_val.shape[0],1), X_val))\n",
    "Y_train = Y_train.reshape(-1,1)\n",
    "Y_test = Y_test.reshape(-1,1)\n",
    "Y_val = Y_val.reshape(-1,1)\n",
    "m = X_train.shape[0]"
   ]
  },
  {
   "cell_type": "markdown",
   "metadata": {},
   "source": [
    "Initailize theta with all zeros"
   ]
  },
  {
   "cell_type": "code",
   "execution_count": 13,
   "metadata": {},
   "outputs": [],
   "source": [
    "theta = np.zeros((X_train.shape[1],1))"
   ]
  },
  {
   "cell_type": "markdown",
   "metadata": {},
   "source": [
    "Logistic Regression cost function with regularization"
   ]
  },
  {
   "cell_type": "code",
   "execution_count": 14,
   "metadata": {},
   "outputs": [],
   "source": [
    "def compute_cost(m, hx, lamb):\n",
    "    cost = -(1/m)* np.sum((Y_train*np.log(hx)) + (1-Y_train)*(np.log(1-hx))) + (lamb/(2*m)) * np.sum(np.square(theta))\n",
    "    return cost"
   ]
  },
  {
   "cell_type": "markdown",
   "metadata": {},
   "source": [
    "Hyperparameter tuning on validation set. Get best value for hyperparameter learning rate alpha and regularization parameter lambda"
   ]
  },
  {
   "cell_type": "code",
   "execution_count": 15,
   "metadata": {},
   "outputs": [],
   "source": [
    "num_iter = 100000\n",
    "alphas = [0.1, 0.01, 0.001]\n",
    "lambs = [1, 10, 100]\n",
    "max_acc = 0\n",
    "best_alpha, best_lamb = 0, 0\n",
    "for alpha in alphas:\n",
    "    for lamb in lambs:\n",
    "        for i in range(num_iter):\n",
    "            hx = 1/ (1 + np.exp(-np.dot(X_train,theta)))\n",
    "            cost = compute_cost(m,hx,lamb)\n",
    "            theta = theta - (alpha * ((1/m)*np.dot(X_train.T, (hx-Y_train))  + ((lamb/m) * theta)))\n",
    "        hx = 1/ (1 + np.exp(-np.dot(X_val,theta)))\n",
    "        Y_pred = (hx>0.5).astype(int)\n",
    "        acc = np.mean(Y_val==Y_pred)\n",
    "        if acc >= max_acc:\n",
    "            max_acc = acc\n",
    "            best_alpha = alpha\n",
    "            best_lamb = lamb"
   ]
  },
  {
   "cell_type": "code",
   "execution_count": 16,
   "metadata": {},
   "outputs": [
    {
     "name": "stdout",
     "output_type": "stream",
     "text": [
      "0.001 10\n"
     ]
    }
   ],
   "source": [
    "print(best_alpha, best_lamb)"
   ]
  },
  {
   "cell_type": "code",
   "execution_count": 20,
   "metadata": {},
   "outputs": [],
   "source": [
    "theta = np.zeros((X_train.shape[1],1))"
   ]
  },
  {
   "cell_type": "code",
   "execution_count": 21,
   "metadata": {},
   "outputs": [
    {
     "name": "stdout",
     "output_type": "stream",
     "text": [
      "0.6931471805599454\n",
      "0.5645326913172971\n",
      "0.5378332972644251\n",
      "0.5265863038239457\n",
      "0.521428916743642\n",
      "0.5188719371265496\n",
      "0.5175140999118036\n",
      "0.5167485205057277\n",
      "0.5162936965062557\n",
      "0.5160109194681047\n"
     ]
    }
   ],
   "source": [
    "num_iter = 100000\n",
    "alpha = best_alpha\n",
    "lamb = best_lamb\n",
    "cost_history = []\n",
    "for i in range(num_iter):\n",
    "    hx = 1/ (1 + np.exp(-np.dot(X_train,theta)))\n",
    "    cost = compute_cost(m,hx,lamb)\n",
    "    cost_history.append(cost)\n",
    "    if i % 10000 == 0:\n",
    "        print(cost)\n",
    "    theta = theta - (alpha * ((1/m)*np.dot(X_train.T, (hx-Y_train))  + ((lamb/m) * theta)))\n",
    "    "
   ]
  },
  {
   "cell_type": "code",
   "execution_count": 26,
   "metadata": {},
   "outputs": [
    {
     "data": {
      "image/png": "[encoded data removed]",
      "text/plain": [
       "<Figure size 432x288 with 1 Axes>"
      ]
     },
     "metadata": {
      "needs_background": "light"
     },
     "output_type": "display_data"
    }
   ],
   "source": [
    "plt.plot(cost_history)\n",
    "plt.xlabel('iters')\n",
    "plt.ylabel('cost')\n",
    "plt.show()"
   ]
  },
  {
   "cell_type": "markdown",
   "metadata": {},
   "source": [
    "Compute sigmoid output on test set"
   ]
  },
  {
   "cell_type": "code",
   "execution_count": 27,
   "metadata": {},
   "outputs": [],
   "source": [
    "hx = 1/ (1 + np.exp(-np.dot(X_test,theta)))"
   ]
  },
  {
   "cell_type": "markdown",
   "metadata": {},
   "source": [
    "If sigmoid output is greater than 0.5 then predict as survived else not survived"
   ]
  },
  {
   "cell_type": "code",
   "execution_count": 28,
   "metadata": {},
   "outputs": [],
   "source": [
    "pred = (hx>0.5).astype(int)"
   ]
  },
  {
   "cell_type": "code",
   "execution_count": 29,
   "metadata": {},
   "outputs": [
    {
     "name": "stdout",
     "output_type": "stream",
     "text": [
      "1.0\n"
     ]
    }
   ],
   "source": [
    "print(np.mean(Y_test==pred))"
   ]
  },
  {
   "cell_type": "code",
   "execution_count": null,
   "metadata": {},
   "outputs": [],
   "source": []
  }
 ],
 "metadata": {
  "kernelspec": {
   "display_name": "Python 3",
   "language": "python",
   "name": "python3"
  },
  "language_info": {
   "codemirror_mode": {
    "name": "ipython",
    "version": 3
   },
   "file_extension": ".py",
   "mimetype": "text/x-python",
   "name": "python",
   "nbconvert_exporter": "python",
   "pygments_lexer": "ipython3",
   "version": "3.7.4"
  }
 },
 "nbformat": 4,
 "nbformat_minor": 2
}
